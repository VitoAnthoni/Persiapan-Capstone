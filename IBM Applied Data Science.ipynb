{
  "nbformat": 4,
  "nbformat_minor": 0,
  "metadata": {
    "colab": {
      "name": "Untitled2.ipynb",
      "provenance": []
    },
    "kernelspec": {
      "name": "python3",
      "display_name": "Python 3"
    }
  },
  "cells": [
    {
      "cell_type": "markdown",
      "metadata": {
        "id": "PLUmRY61gvBh",
        "colab_type": "text"
      },
      "source": [
        "# **NOTE BOOK For CAPSTONE PROJECT** \n",
        "\n",
        "Created by : Vito Anthoni Stanpo \\\\\n",
        "Purpose    : Completing Coursera Course 9 IBM Data Scientist Specialization \\\\"
      ]
    },
    {
      "cell_type": "code",
      "metadata": {
        "id": "ZR3bzi6fgs0E",
        "colab_type": "code",
        "colab": {}
      },
      "source": [
        "import pandas as pd\n",
        "import numpy as np"
      ],
      "execution_count": 0,
      "outputs": []
    },
    {
      "cell_type": "code",
      "metadata": {
        "id": "FqxrmQFKgt7A",
        "colab_type": "code",
        "colab": {
          "base_uri": "https://localhost:8080/",
          "height": 34
        },
        "outputId": "cb5d17a2-cf7a-4f9d-ebab-c40ac3dfd828"
      },
      "source": [
        "print(\"Hello Capstone Project Course!!\")"
      ],
      "execution_count": 2,
      "outputs": [
        {
          "output_type": "stream",
          "text": [
            "Hello Capstone Project Course!!\n"
          ],
          "name": "stdout"
        }
      ]
    },
    {
      "cell_type": "code",
      "metadata": {
        "id": "28HXCIh-hRMb",
        "colab_type": "code",
        "colab": {}
      },
      "source": [
        ""
      ],
      "execution_count": 0,
      "outputs": []
    }
  ]
}
